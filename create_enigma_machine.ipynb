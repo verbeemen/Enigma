{
 "cells": [
  {
   "cell_type": "markdown",
   "metadata": {},
   "source": [
    "# Enigma M3\n",
    "The Enigma machine is an encryption device developed and used in the early- to mid-20th century to protect commercial, diplomatic and military communication. It was employed extensively by Nazi Germany during World War II, in all branches of the German military.\n",
    "\n",
    "Enigma has an electromechanical rotor mechanism that scrambles the 26 letters of the alphabet. In typical use, one person enters text on the Enigma's keyboard and another person writes down which of 26 lights above the keyboard lights up at each key press. If plain text is entered, the lit-up letters are the encoded ciphertext. Entering ciphertext transforms it back into readable plaintext. The rotor mechanism changes the electrical connections between the keys and the lights with each keypress. The security of the system depends on Enigma machine settings that were changed daily, based on secret key lists distributed in advance, and on other settings that change for each message. The receiving station has to know and use the exact settings employed by the transmitting station to successfully decrypt a message.\n",
    "\n",
    "As used in practice, the Enigma encryption proved vulnerable to cryptanalytic attacks by Germany's adversaries, at first Polish and French intelligence and, later, a massive effort mounted by the United Kingdom at Bletchley Park as part of the Ultra program. While Germany introduced a series of improvements to Enigma, and these hampered decryption efforts to varying degrees, they did not ultimately prevent Britain and its allies from exploiting Enigma-encoded messages as a major source of intelligence during the war. Many commentators say the flow of communications intelligence from Ultra's decryption of Enigma, Lorenz and other ciphers shortened the war significantly and may even have altered its outcome\n",
    "\n",
    "## Sources\n",
    " - [https://en.wikipedia.org/wiki/Enigma_machine](https://en.wikipedia.org/wiki/Enigma_machine)\n",
    " - [http://users.telenet.be/d.rijmenants/en/enigmatech.htm](http://users.telenet.be/d.rijmenants/en/enigmatech.htm)\n",
    " - [https://www.cryptool.org/en/cto-ciphers/enigma](https://www.cryptool.org/en/cto-ciphers/enigma)\n",
    " \n",
    "# Load packages"
   ]
  },
  {
   "cell_type": "code",
   "execution_count": 1,
   "metadata": {},
   "outputs": [],
   "source": [
    "# update objects|classes when we write code\n",
    "%load_ext autoreload\n",
    "%autoreload 2\n",
    "\n",
    "# load packages\n",
    "from enigma_m3 import Rotor\n",
    "from enigma_m3 import Reflector\n",
    "from enigma_m3 import EnigmaM3\n",
    "import numpy as np"
   ]
  },
  {
   "cell_type": "markdown",
   "metadata": {},
   "source": [
    "# Create Enigma Machines\n",
    "\n",
    "How does it work?\n",
    "\n",
    " 1) Create an enigma machine  \n",
    " 2) Encode your message\n",
    " \n",
    " \n",
    "![](https://waaromwiskunde.files.wordpress.com/2013/06/wiringdiagram.png)\n",
    "\n",
    "## Encode\n",
    "Encode the alphabet "
   ]
  },
  {
   "cell_type": "code",
   "execution_count": 14,
   "metadata": {},
   "outputs": [
    {
     "data": {
      "text/plain": [
       "'NXQUPHXBYXMCKWROBQKAGZCAHFFADKOGKEPLJMPMDCAQOAQPSVPBJKDKYHREPAXDPAMALKYBBMPCQJ'"
      ]
     },
     "execution_count": 14,
     "metadata": {},
     "output_type": "execute_result"
    }
   ],
   "source": [
    "# Create an enigma machine\n",
    "enigma_m3 = EnigmaM3()\n",
    "\n",
    "# Set the rotors\n",
    "## A rotor contains out: \n",
    "### A version (1-8) \n",
    "### A start letter (A-Z) (the start letter is the visible letter on the rotor)\n",
    "\n",
    "enigma_m3.set_slot_1( Rotor(version = 8, start_letter = 'L') ) # Left rotor\n",
    "enigma_m3.set_slot_2( Rotor(version = 7, start_letter = 'S') ) # Middle rotor\n",
    "enigma_m3.set_slot_3( Rotor(version = 6, start_letter = 'K') ) # Right rotor\n",
    "\n",
    "# set the reflector\n",
    "## There are different versions of Refectors, the most common of the Enigma M3 is B\n",
    "enigma_m3.set_reflector(Reflector(version = 'B'))\n",
    "\n",
    "# set the steckerboard\n",
    "enigma_m3.set_steckerboard_char([('a','b'), ('x','y'), ('m','n')])\n",
    "\n",
    "# encode the message\n",
    "enigma_m3.get_code('ABCDEFGHIJKLMNOPQRSTUVWXYZ'*3)"
   ]
  },
  {
   "cell_type": "markdown",
   "metadata": {},
   "source": [
    "## Decode\n",
    "Decode the previous message"
   ]
  },
  {
   "cell_type": "code",
   "execution_count": 15,
   "metadata": {},
   "outputs": [
    {
     "data": {
      "text/plain": [
       "'ABCDEFGHIJKLMNOPQRSTUVWXYZABCDEFGHIJKLMNOPQRSTUVWXYZABCDEFGHIJKLMNOPQRSTUVWXYZ'"
      ]
     },
     "execution_count": 15,
     "metadata": {},
     "output_type": "execute_result"
    }
   ],
   "source": [
    "# Create an enigma machine\n",
    "enigma_m3 = EnigmaM3()\n",
    "\n",
    "# Set the rotors\n",
    "enigma_m3.set_slot_1( Rotor(version = 8, start_letter = 'L') ) # Left rotor\n",
    "enigma_m3.set_slot_2( Rotor(version = 7, start_letter = 'S') ) # Middle rotor\n",
    "enigma_m3.set_slot_3( Rotor(version = 6, start_letter = 'K') ) # Right rotor\n",
    "\n",
    "# set the reflector\n",
    "enigma_m3.set_reflector(Reflector(version = 'B'))\n",
    "\n",
    "# set the steckerboard\n",
    "enigma_m3.set_steckerboard_char([('a','b'), ('x','y'), ('m','n')])\n",
    "\n",
    "# decode the message\n",
    "enigma_m3.get_code('NXQUPHXBYXMCKWROBQKAGZCAHFFADKOGKEPLJMPMDCAQOAQPSVPBJKDKYHREPAXDPAMALKYBBMPCQJ')"
   ]
  },
  {
   "cell_type": "markdown",
   "metadata": {},
   "source": [
    "# Random Steckers"
   ]
  },
  {
   "cell_type": "code",
   "execution_count": 82,
   "metadata": {},
   "outputs": [
    {
     "data": {
      "text/plain": [
       "'TRSHTZLSFIZQVLZDAIKVYTFQJKYAEMOTKFKGQTNCXIBAMLYGTNVOULOMDTOFPUTZDCSRUMOXJUCGBJ'"
      ]
     },
     "execution_count": 82,
     "metadata": {},
     "output_type": "execute_result"
    }
   ],
   "source": [
    "# Create an enigma machine\n",
    "enigma_m3 = EnigmaM3()\n",
    "\n",
    "# Set the rotors\n",
    "enigma_m3.set_slot_1( Rotor(version = 8, start_letter = 'L') ) # Left rotor\n",
    "enigma_m3.set_slot_2( Rotor(version = 7, start_letter = 'S') ) # Middle rotor\n",
    "enigma_m3.set_slot_3( Rotor(version = 6, start_letter = 'K') ) # Right rotor\n",
    "\n",
    "# set the reflector\n",
    "enigma_m3.set_reflector(Reflector(version = 'B'))\n",
    "\n",
    "# set the steckerboard\n",
    "enigma_m3.set_steckerboard( np.random.choice(26, (10,2), replace=False) )\n",
    "\n",
    "# encode the message\n",
    "enigma_m3.get_code('ABCDEFGHIJKLMNOPQRSTUVWXYZ'*3)"
   ]
  },
  {
   "cell_type": "markdown",
   "metadata": {},
   "source": [
    "\n",
    "![http://users.telenet.be/d.rijmenants/pics/hires-wehrmachtkey-bgs.jpg](http://users.telenet.be/d.rijmenants/pics/hires-wehrmachtkey-bgs.jpg)\n",
    "\n"
   ]
  }
 ],
 "metadata": {
  "kernelspec": {
   "display_name": "Python 3",
   "language": "python",
   "name": "python3"
  },
  "language_info": {
   "codemirror_mode": {
    "name": "ipython",
    "version": 3
   },
   "file_extension": ".py",
   "mimetype": "text/x-python",
   "name": "python",
   "nbconvert_exporter": "python",
   "pygments_lexer": "ipython3",
   "version": "3.7.2"
  }
 },
 "nbformat": 4,
 "nbformat_minor": 4
}
